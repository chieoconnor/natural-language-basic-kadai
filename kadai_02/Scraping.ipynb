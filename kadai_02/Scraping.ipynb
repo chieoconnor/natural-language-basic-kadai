{
  "nbformat": 4,
  "nbformat_minor": 0,
  "metadata": {
    "colab": {
      "provenance": []
    },
    "kernelspec": {
      "name": "python3",
      "display_name": "Python 3"
    },
    "language_info": {
      "name": "python"
    }
  },
  "cells": [
    {
      "cell_type": "code",
      "execution_count": null,
      "metadata": {
        "id": "h1b-v49Va5Ix"
      },
      "outputs": [],
      "source": [
        "!pip install bs4\n",
        "\n",
        "!pip install mecab-python3\n",
        "\n",
        "!pip install unidic-lite"
      ]
    },
    {
      "cell_type": "code",
      "source": [
        "from bs4 import BeautifulSoup\n",
        "from urllib import request\n",
        "import MeCab\n",
        "\n",
        "url_txt = 'https://www.aozora.gr.jp/cards/000148/files/2371_13943.html'\n",
        "url_jpn = 'http://svn.sourceforge.jp/svnroot/slothlib/CSharp/Version1/SlothLib/NLP/Filter/StopWord/word/Japanese.txt'\n",
        "response_txt = request.urlopen(url_txt)\n",
        "soup_txt = BeautifulSoup(response_txt)\n",
        "response_txt.close()\n",
        "\n",
        "print(soup_txt)"
      ],
      "metadata": {
        "id": "7PInPnjHj0OS"
      },
      "execution_count": null,
      "outputs": []
    },
    {
      "cell_type": "code",
      "source": [
        "main_text = soup_txt.find('div', class_='main_text')\n",
        "print(main_text)"
      ],
      "metadata": {
        "id": "SHBZ9-boBwxd"
      },
      "execution_count": null,
      "outputs": []
    },
    {
      "cell_type": "code",
      "source": [
        "tags_to_delete = main_text.find_all(['rp', 'rt'])\n",
        "for tag in tags_to_delete:\n",
        "  tag.decompose()\n",
        "main_text = main_text.get_text()\n",
        "print(main_text)"
      ],
      "metadata": {
        "id": "avjSpKQxQ52R"
      },
      "execution_count": null,
      "outputs": []
    },
    {
      "cell_type": "code",
      "source": [
        "import re\n",
        "import MeCab\n",
        "\n",
        "main_text = re.sub(r\"[\\u3000 \\n \\r]\", \"\", main_text)\n",
        "print(main_text)\n",
        "\n",
        "mecab_tagger = MeCab.Tagger()\n",
        "node = mecab_tagger.parseToNode(main_text)\n",
        "vocab_list = []\n",
        "\n",
        "while node:\n",
        "  word = node.surface\n",
        "  hinshi = node.feature.split(\",\")[0]\n",
        "  if hinshi == \"名詞\":\n",
        "    if (not word.isnumeric()) and (not re.match(r'^[\\u3040-\\u309F]+$', word)):\n",
        "      vocab_list.append(word)\n",
        "  else:\n",
        "    pass\n",
        "  node = node.next\n",
        "\n",
        "print(vocab_list)\n"
      ],
      "metadata": {
        "id": "m2PVbxH9YBeW"
      },
      "execution_count": null,
      "outputs": []
    },
    {
      "cell_type": "code",
      "source": [
        "response_jpn = request.urlopen(url_jpn)\n",
        "soup_jpn = BeautifulSoup(response_jpn)\n",
        "response_jpn.close()\n",
        "print(soup_jpn)"
      ],
      "metadata": {
        "id": "my8JazCLTelY"
      },
      "execution_count": null,
      "outputs": []
    },
    {
      "cell_type": "code",
      "source": [
        "stopwords_jpn = soup_jpn.text\n",
        "print(stopwords_jpn)"
      ],
      "metadata": {
        "id": "gyVU5loaU3QA"
      },
      "execution_count": null,
      "outputs": []
    },
    {
      "cell_type": "code",
      "source": [
        "stopwords_jpn_list = stopwords_jpn.split(\"\\r\\n\")\n",
        "stopwords_jpn_list = [word for word in stopwords_jpn_list if word]\n",
        "print(stopwords_jpn_list)"
      ],
      "metadata": {
        "id": "-9crKdTpVMU3"
      },
      "execution_count": null,
      "outputs": []
    },
    {
      "cell_type": "code",
      "source": [
        "result_text_list = list()\n",
        "for split_text in vocab_list:\n",
        "  if split_text not in stopwords_jpn_list:\n",
        "    result_text_list.append(split_text)\n",
        "\n",
        "print(result_text_list)\n"
      ],
      "metadata": {
        "id": "vqcbh8_bdLY4"
      },
      "execution_count": null,
      "outputs": []
    }
  ]
}